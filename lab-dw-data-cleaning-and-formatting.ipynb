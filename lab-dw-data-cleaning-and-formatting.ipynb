{
  "cells": [
    {
      "cell_type": "markdown",
      "id": "25d7736c-ba17-4aff-b6bb-66eba20fbf4e",
      "metadata": {
        "id": "25d7736c-ba17-4aff-b6bb-66eba20fbf4e"
      },
      "source": [
        "# Lab | Data Cleaning and Formatting"
      ]
    },
    {
      "cell_type": "markdown",
      "id": "d1973e9e-8be6-4039-b70e-d73ee0d94c99",
      "metadata": {
        "id": "d1973e9e-8be6-4039-b70e-d73ee0d94c99"
      },
      "source": [
        "In this lab, we will be working with the customer data from an insurance company, which can be found in the CSV file located at the following link: https://raw.githubusercontent.com/data-bootcamp-v4/data/main/file1.csv\n"
      ]
    },
    {
      "cell_type": "markdown",
      "id": "31b8a9e7-7db9-4604-991b-ef6771603e57",
      "metadata": {
        "id": "31b8a9e7-7db9-4604-991b-ef6771603e57"
      },
      "source": [
        "# Challenge 1: Data Cleaning and Formatting"
      ]
    },
    {
      "cell_type": "markdown",
      "id": "81553f19-9f2c-484b-8940-520aff884022",
      "metadata": {
        "id": "81553f19-9f2c-484b-8940-520aff884022"
      },
      "source": [
        "## Exercise 1: Cleaning Column Names"
      ]
    },
    {
      "cell_type": "markdown",
      "id": "34a929f4-1be4-4fa8-adda-42ffd920be90",
      "metadata": {
        "id": "34a929f4-1be4-4fa8-adda-42ffd920be90"
      },
      "source": [
        "To ensure consistency and ease of use, standardize the column names of the dataframe. Start by taking a first look at the dataframe and identifying any column names that need to be modified. Use appropriate naming conventions and make sure that column names are descriptive and informative.\n",
        "\n",
        "*Hint*:\n",
        "- *Column names should be in lower case*\n",
        "- *White spaces in column names should be replaced by `_`*\n",
        "- *`st` could be replaced for `state`*"
      ]
    },
    {
      "cell_type": "code",
      "execution_count": 123,
      "id": "5810735c-8056-4442-bbf2-dda38d3e284a",
      "metadata": {
        "id": "5810735c-8056-4442-bbf2-dda38d3e284a"
      },
      "outputs": [
        {
          "name": "stdout",
          "output_type": "stream",
          "text": [
            "Index(['customer', 'state', 'gender', 'education', 'customer_lifetime_value',\n",
            "       'income', 'monthly_premium_auto', 'number_of_open_complaints',\n",
            "       'policy_type', 'vehicle_class', 'total_claim_amount'],\n",
            "      dtype='object')\n"
          ]
        }
      ],
      "source": [
        "import pandas as pd\n",
        "df=pd.read_csv('https://raw.githubusercontent.com/data-bootcamp-v4/data/main/file1.csv')\n",
        "df.head()\n",
        "df.columns\n",
        "df.columns = df.columns.str.lower().str.replace(\" \", \"_\")  # Convert to lowercase and replace spaces with '_'\n",
        "df = df.rename(columns={\"st\": \"state\"})  # Rename 'st' to 'state'\n",
        "print(df.columns)\n",
        "\n"
      ]
    },
    {
      "cell_type": "markdown",
      "id": "9cb501ec-36ff-4589-b872-6252bb150316",
      "metadata": {
        "id": "9cb501ec-36ff-4589-b872-6252bb150316"
      },
      "source": [
        "## Exercise 2: Cleaning invalid Values"
      ]
    },
    {
      "cell_type": "markdown",
      "id": "771fdcf3-8e20-4b06-9c24-3a93ba2b0909",
      "metadata": {
        "id": "771fdcf3-8e20-4b06-9c24-3a93ba2b0909"
      },
      "source": [
        "The dataset contains columns with inconsistent and incorrect values that could affect the accuracy of our analysis. Therefore, we need to clean these columns to ensure that they only contain valid data.\n",
        "\n",
        "Note that this exercise will focus only on cleaning inconsistent values and will not involve handling null values (NaN or None).\n",
        "\n",
        "*Hint*:\n",
        "- *Gender column contains various inconsistent values such as \"F\", \"M\", \"Femal\", \"Male\", \"female\", which need to be standardized, for example, to \"M\" and \"F\".*\n",
        "- *State abbreviations be can replaced with its full name, for example \"AZ\": \"Arizona\", \"Cali\": \"California\", \"WA\": \"Washington\"*\n",
        "- *In education, \"Bachelors\" could be replaced by \"Bachelor\"*\n",
        "- *In Customer Lifetime Value, delete the `%` character*\n",
        "- *In vehicle class, \"Sports Car\", \"Luxury SUV\" and \"Luxury Car\" could be replaced by \"Luxury\"*"
      ]
    },
    {
      "cell_type": "code",
      "execution_count": 124,
      "id": "3f8ee5cb-50ab-48af-8a9f-9a389804033c",
      "metadata": {
        "id": "3f8ee5cb-50ab-48af-8a9f-9a389804033c"
      },
      "outputs": [
        {
          "name": "stdout",
          "output_type": "stream",
          "text": [
            "  customer       state gender             education  customer_lifetime_value  \\\n",
            "0  RB50392  Washington    NaN                Master                      NaN   \n",
            "1  QZ44356     Arizona      F              Bachelor                697953.59   \n",
            "2  AI49188      Nevada      F              Bachelor               1288743.17   \n",
            "3  WW63253  California      M              Bachelor                764586.18   \n",
            "4  GA49547  Washington      M  High School or Below                536307.65   \n",
            "\n",
            "    income  monthly_premium_auto number_of_open_complaints     policy_type  \\\n",
            "0      0.0                1000.0                    1/0/00   Personal Auto   \n",
            "1      0.0                  94.0                    1/0/00   Personal Auto   \n",
            "2  48767.0                 108.0                    1/0/00   Personal Auto   \n",
            "3      0.0                 106.0                    1/0/00  Corporate Auto   \n",
            "4  36357.0                  68.0                    1/0/00   Personal Auto   \n",
            "\n",
            "   vehicle_class  total_claim_amount  \n",
            "0  Four-Door Car            2.704934  \n",
            "1  Four-Door Car         1131.464935  \n",
            "2   Two-Door Car          566.472247  \n",
            "3            SUV          529.881344  \n",
            "4  Four-Door Car           17.269323  \n"
          ]
        }
      ],
      "source": [
        "df_copy=df.copy()\n",
        "# Standardize gender values\n",
        "df_copy[\"gender\"] = df_copy[\"gender\"].str.lower().replace({\"female\": \"F\", \"femal\": \"F\", \"f\": \"F\", \"male\": \"M\", \"m\": \"M\"})\n",
        "\n",
        "# Replace state abbreviations with full names\n",
        "state_mapping = {\"AZ\": \"Arizona\", \"Cali\": \"California\", \"WA\": \"Washington\"}\n",
        "df_copy[\"state\"] = df_copy[\"state\"].replace(state_mapping)\n",
        "\n",
        "# Standardize education level\n",
        "df_copy[\"education\"] = df_copy[\"education\"].replace({\"Bachelors\": \"Bachelor\"})\n",
        "\n",
        "# Remove '%' from Customer Lifetime Value and convert it to numeric format\n",
        "df_copy[\"customer_lifetime_value\"] = df_copy[\"customer_lifetime_value\"].str.replace(\"%\", \"\").astype(float)\n",
        "\n",
        "# Standardize vehicle class by grouping luxury cars\n",
        "df_copy[\"vehicle_class\"] = df_copy[\"vehicle_class\"].replace({\"Sports Car\": \"Luxury\", \"Luxury SUV\": \"Luxury\", \"Luxury Car\": \"Luxury\"})\n",
        "\n",
        "\n",
        "print(df_copy.head())\n"
      ]
    },
    {
      "cell_type": "markdown",
      "id": "85ff78ce-0174-4890-9db3-8048b7d7d2d0",
      "metadata": {
        "id": "85ff78ce-0174-4890-9db3-8048b7d7d2d0"
      },
      "source": [
        "## Exercise 3: Formatting data types"
      ]
    },
    {
      "cell_type": "markdown",
      "id": "b91c2cf8-79a2-4baf-9f65-ff2fb22270bd",
      "metadata": {
        "id": "b91c2cf8-79a2-4baf-9f65-ff2fb22270bd"
      },
      "source": [
        "The data types of many columns in the dataset appear to be incorrect. This could impact the accuracy of our analysis. To ensure accurate analysis, we need to correct the data types of these columns. Please update the data types of the columns as appropriate."
      ]
    },
    {
      "cell_type": "markdown",
      "id": "43e5d853-ff9e-43b2-9d92-aef2f78764f3",
      "metadata": {
        "id": "43e5d853-ff9e-43b2-9d92-aef2f78764f3"
      },
      "source": [
        "It is important to note that this exercise does not involve handling null values (NaN or None)."
      ]
    },
    {
      "cell_type": "markdown",
      "id": "329ca691-9196-4419-8969-3596746237a1",
      "metadata": {
        "id": "329ca691-9196-4419-8969-3596746237a1"
      },
      "source": [
        "*Hint*:\n",
        "- *Customer lifetime value should be numeric*\n",
        "- *Number of open complaints has an incorrect format. Look at the different values it takes with `unique()` and take the middle value. As an example, 1/5/00 should be 5. Number of open complaints is a string - remember you can use `split()` to deal with it and take the number you need. Finally, since it should be numeric, cast the column to be in its proper type.*"
      ]
    },
    {
      "cell_type": "code",
      "execution_count": 125,
      "id": "23153a53",
      "metadata": {},
      "outputs": [
        {
          "data": {
            "text/plain": [
              "customer                      object\n",
              "state                         object\n",
              "gender                        object\n",
              "education                     object\n",
              "customer_lifetime_value      float64\n",
              "income                       float64\n",
              "monthly_premium_auto         float64\n",
              "number_of_open_complaints     object\n",
              "policy_type                   object\n",
              "vehicle_class                 object\n",
              "total_claim_amount           float64\n",
              "dtype: object"
            ]
          },
          "execution_count": 125,
          "metadata": {},
          "output_type": "execute_result"
        }
      ],
      "source": [
        "df_copy.dtypes"
      ]
    },
    {
      "cell_type": "code",
      "execution_count": 126,
      "id": "786b9d63",
      "metadata": {},
      "outputs": [
        {
          "data": {
            "text/plain": [
              "array(['1/0/00', '1/2/00', '1/1/00', '1/3/00', '1/5/00', '1/4/00', nan],\n",
              "      dtype=object)"
            ]
          },
          "execution_count": 126,
          "metadata": {},
          "output_type": "execute_result"
        }
      ],
      "source": [
        "df['number_of_open_complaints'].unique()"
      ]
    },
    {
      "cell_type": "code",
      "execution_count": 127,
      "id": "eb8f5991-73e9-405f-bf1c-6b7c589379a9",
      "metadata": {
        "id": "eb8f5991-73e9-405f-bf1c-6b7c589379a9"
      },
      "outputs": [
        {
          "data": {
            "text/plain": [
              "customer                      object\n",
              "state                         object\n",
              "gender                        object\n",
              "education                     object\n",
              "customer_lifetime_value      float64\n",
              "income                       float64\n",
              "monthly_premium_auto         float64\n",
              "number_of_open_complaints    float64\n",
              "policy_type                   object\n",
              "vehicle_class                 object\n",
              "total_claim_amount           float64\n",
              "dtype: object"
            ]
          },
          "execution_count": 127,
          "metadata": {},
          "output_type": "execute_result"
        }
      ],
      "source": [
        "# Convert Customer Lifetime Value to numeric (removing '%' if present)\n",
        "df_copy[\"customer_lifetime_value\"] = df_copy[\"customer_lifetime_value\"].astype(str).str.replace(\"%\", \"\").astype(float)\n",
        "\n",
        "# Fix Number of Open Complaints: Extract the middle number from format \"X/Y/Z\"\n",
        "df_copy[\"number_of_open_complaints\"] = df_copy[\"number_of_open_complaints\"].astype(str).apply(lambda x: x.split(\"/\")[1] if \"/\" in x else x).astype(float)\n",
        "\n",
        "df_copy.dtypes"
      ]
    },
    {
      "cell_type": "markdown",
      "id": "14c52e28-2d0c-4dd2-8bd5-3476e34fadc1",
      "metadata": {
        "id": "14c52e28-2d0c-4dd2-8bd5-3476e34fadc1"
      },
      "source": [
        "## Exercise 4: Dealing with Null values"
      ]
    },
    {
      "cell_type": "markdown",
      "id": "34b9a20f-7d32-4417-975e-1b4dfb0e16cd",
      "metadata": {
        "id": "34b9a20f-7d32-4417-975e-1b4dfb0e16cd"
      },
      "source": [
        "Identify any columns with null or missing values. Identify how many null values each column has. You can use the `isnull()` function in pandas to find columns with null values.\n",
        "\n",
        "Decide on a strategy for handling the null values. There are several options, including:\n",
        "\n",
        "- Drop the rows or columns with null values\n",
        "- Fill the null values with a specific value (such as the column mean or median for numerical variables, and mode for categorical variables)\n",
        "- Fill the null values with the previous or next value in the column\n",
        "- Fill the null values based on a more complex algorithm or model (note: we haven't covered this yet)\n",
        "\n",
        "Implement your chosen strategy to handle the null values. You can use the `fillna()` function in pandas to fill null values or `dropna()` function to drop null values.\n",
        "\n",
        "Verify that your strategy has successfully handled the null values. You can use the `isnull()` function again to check if there are still null values in the dataset.\n",
        "\n",
        "Remember to document your process and explain your reasoning for choosing a particular strategy for handling null values.\n",
        "\n",
        "After formatting data types, as a last step, convert all the numeric variables to integers."
      ]
    },
    {
      "cell_type": "code",
      "execution_count": 128,
      "id": "f184fc35-7831-4836-a0a5-e7f99e01b40e",
      "metadata": {
        "id": "f184fc35-7831-4836-a0a5-e7f99e01b40e"
      },
      "outputs": [
        {
          "name": "stdout",
          "output_type": "stream",
          "text": [
            "missing_values:\n",
            "customer                     2937\n",
            "state                        2937\n",
            "gender                       3054\n",
            "education                    2937\n",
            "customer_lifetime_value      2940\n",
            "income                       2937\n",
            "monthly_premium_auto         2937\n",
            "number_of_open_complaints    2937\n",
            "policy_type                  2937\n",
            "vehicle_class                2937\n",
            "total_claim_amount           2937\n",
            "dtype: int64\n",
            "\n",
            " missing_value after cleaning:\n",
            "customer                     0\n",
            "state                        0\n",
            "gender                       0\n",
            "education                    0\n",
            "customer_lifetime_value      0\n",
            "income                       0\n",
            "monthly_premium_auto         0\n",
            "number_of_open_complaints    0\n",
            "policy_type                  0\n",
            "vehicle_class                0\n",
            "total_claim_amount           0\n",
            "dtype: int64\n",
            "\n",
            "customer                     object\n",
            "state                        object\n",
            "gender                       object\n",
            "education                    object\n",
            "customer_lifetime_value       int64\n",
            "income                        int64\n",
            "monthly_premium_auto          int64\n",
            "number_of_open_complaints     int64\n",
            "policy_type                  object\n",
            "vehicle_class                object\n",
            "total_claim_amount            int64\n",
            "dtype: object\n"
          ]
        }
      ],
      "source": [
        "# Check for missing values\n",
        "missing_values = df.isnull().sum()\n",
        "print(f\"missing_values:\\n{missing_values}\")\n",
        "\n",
        "df_copy[\"customer_lifetime_value\"]=df_copy[\"customer_lifetime_value\"].fillna(df_copy[\"customer_lifetime_value\"].median())#Since customer lifetime value can vary significantly, using the median ensures that extreme values (very high or very low customer values) do not affect the dataset too much.\n",
        "df_copy[\"income\"]=df_copy[\"income\"].fillna(df_copy[\"income\"].median())#Income distribution is often skewed, meaning some individuals have very high incomes while others have low incomes. The median is a better representation of the central tendency than the mean.\n",
        "df_copy[\"monthly_premium_auto\"]=df_copy[\"monthly_premium_auto\"].fillna(df_copy[\"monthly_premium_auto\"].mean())#Monthly premiums are usually consistent and less variable than lifetime value or income. Using the mean is a reasonable choice since the values tend to follow a more normal distribution.\n",
        "df_copy[\"number_of_open_complaints\"]=df_copy[\"number_of_open_complaints\"].fillna(df_copy[\"number_of_open_complaints\"].mode()[0])#Since this represents the number of complaints, the most common number (mode) is a good replacement.\n",
        "df_copy[\"total_claim_amount\"]=df_copy[\"total_claim_amount\"].fillna(df_copy[\"total_claim_amount\"].median())#Claims can be highly variable depending on accident severity. The median avoids the influence of extreme values while still giving a good estimate\n",
        "\n",
        "df_copy = df_copy.dropna(subset=[\"customer\"])#it represents a unique identifier for each customer, and missing values could indicate incomplete records. If a customer entry is missing, the entire row may be unreliable.\n",
        "df_copy[\"state\"]=df_copy[\"state\"].fillna(\"Unknown\")#Using \"Unknown\" ensures we acknowledge missing data instead of making assumptions.\n",
        "df_copy[\"gender\"]=df_copy[\"gender\"].fillna(\"Unknown\")\n",
        "df_copy[\"education\"]=df_copy[\"education\"].fillna(df_copy[\"education\"].mode()[0])#Education level is categorical, and most people likely fall under a common category. Filling with the mode prevents unnecessary data loss.\n",
        "df_copy[\"policy_type\"]=df_copy[\"policy_type\"].fillna(df_copy[\"policy_type\"].mode()[0])\n",
        "df_copy[\"vehicle_class\"]=df_copy[\"vehicle_class\"].fillna(df_copy[\"vehicle_class\"].mode()[0])\n",
        "\n",
        "print(\"\\n missing_value after cleaning:\")\n",
        "print(df_copy.isnull().sum())\n",
        "\n",
        "numeric_columns = df_copy.select_dtypes(include=[\"number\"]).columns\n",
        "df_copy[numeric_columns] = df_copy[numeric_columns].astype(int)# Convert all numeric variables to integers\n",
        "print(f\"\\n{df_copy.dtypes}\")\n",
        "\n",
        "\n"
      ]
    },
    {
      "cell_type": "markdown",
      "id": "98416351-e999-4156-9834-9b00a311adfa",
      "metadata": {
        "id": "98416351-e999-4156-9834-9b00a311adfa"
      },
      "source": [
        "## Exercise 5: Dealing with duplicates"
      ]
    },
    {
      "cell_type": "markdown",
      "id": "ea0816a7-a18e-4d4c-b667-a8452a800bd1",
      "metadata": {
        "id": "ea0816a7-a18e-4d4c-b667-a8452a800bd1"
      },
      "source": [
        "Use the `.duplicated()` method to identify any duplicate rows in the dataframe.\n",
        "\n",
        "Decide on a strategy for handling the duplicates. Options include:\n",
        "- Dropping all duplicate rows\n",
        "- Keeping only the first occurrence of each duplicated row\n",
        "- Keeping only the last occurrence of each duplicated row\n",
        "- Dropping duplicates based on a subset of columns\n",
        "- Dropping duplicates based on a specific column\n",
        "\n",
        "Implement your chosen strategy using the `drop_duplicates()` function.\n",
        "\n",
        "Verify that your strategy has successfully handled the duplicates by checking for duplicates again using `.duplicated()`.\n",
        "\n",
        "Remember to document your process and explain your reasoning for choosing a particular strategy for handling duplicates.\n",
        "\n",
        "Save the cleaned dataset to a new CSV file.\n",
        "\n",
        "*Hint*: *after dropping duplicates, reset the index to ensure consistency*."
      ]
    },
    {
      "cell_type": "code",
      "execution_count": 129,
      "id": "1929362c-47ed-47cb-baca-358b78d401a0",
      "metadata": {
        "id": "1929362c-47ed-47cb-baca-358b78d401a0"
      },
      "outputs": [
        {
          "name": "stdout",
          "output_type": "stream",
          "text": [
            "Number of duplicate rows: 0\n"
          ]
        }
      ],
      "source": [
        "# Check for duplicate rows\n",
        "duplicate_rows = df_copy[df_copy.duplicated()]\n",
        "print(f\"Number of duplicate rows: {duplicate_rows.shape[0]}\")\n",
        "df_copy.to_csv(\"cleaned_data.csv\", index=False)\n"
      ]
    },
    {
      "cell_type": "markdown",
      "id": "60840701-4783-40e2-b4d8-55303f9100c9",
      "metadata": {
        "id": "60840701-4783-40e2-b4d8-55303f9100c9"
      },
      "source": [
        "# Bonus: Challenge 2: creating functions on a separate `py` file"
      ]
    },
    {
      "cell_type": "markdown",
      "id": "9d1adb3a-17cf-4899-8041-da21a4337fb4",
      "metadata": {
        "id": "9d1adb3a-17cf-4899-8041-da21a4337fb4"
      },
      "source": [
        "Put all the data cleaning and formatting steps into functions, and create a main function that performs all the cleaning and formatting.\n",
        "\n",
        "Write these functions in separate .py file(s). By putting these steps into functions, we can make the code more modular and easier to maintain."
      ]
    },
    {
      "cell_type": "markdown",
      "id": "0e170dc2-b62c-417a-8248-e63ed18a70c4",
      "metadata": {
        "id": "0e170dc2-b62c-417a-8248-e63ed18a70c4"
      },
      "source": [
        "*Hint: autoreload module is a utility module in Python that allows you to automatically reload modules in the current session when changes are made to the source code. This can be useful in situations where you are actively developing code and want to see the effects of changes you make without having to constantly restart the Python interpreter or Jupyter Notebook kernel.*"
      ]
    },
    {
      "cell_type": "code",
      "execution_count": 130,
      "id": "a52c6dfc-cd11-4d01-bda4-f719fa33e9a4",
      "metadata": {
        "id": "a52c6dfc-cd11-4d01-bda4-f719fa33e9a4"
      },
      "outputs": [],
      "source": [
        "\n",
        "def load_data(filepath):\n",
        "    \"\"\"Loads the dataset from a CSV file.\"\"\"\n",
        "    return pd.read_csv(filepath)\n",
        "\n",
        "def standardize_column_names(df):\n",
        "    \"\"\"Standardizes column names: lowercase and replaces spaces with underscores.\"\"\"\n",
        "    df.columns = df.columns.str.lower().str.replace(\" \", \"_\")\n",
        "    df.rename(columns={\"st\": \"state\"}, inplace=True)\n",
        "    return df\n",
        "\n",
        "def clean_gender(df):\n",
        "    \"\"\"Standardizes gender values.\"\"\"\n",
        "    df[\"gender\"] = df[\"gender\"].str.lower().replace({\"female\": \"F\", \"femal\": \"F\", \"f\": \"F\", \"male\": \"M\", \"m\": \"M\"})\n",
        "    return df\n",
        "\n",
        "def clean_state(df):\n",
        "    \"\"\"Replaces state abbreviations with full names.\"\"\"\n",
        "    state_mapping = {\"AZ\": \"Arizona\", \"Cali\": \"California\", \"WA\": \"Washington\"}\n",
        "    df[\"state\"] = df[\"state\"].replace(state_mapping)\n",
        "    return df\n",
        "\n",
        "def clean_education(df):\n",
        "    \"\"\"Standardizes education levels.\"\"\"\n",
        "    df[\"education\"] = df[\"education\"].replace({\"Bachelors\": \"Bachelor\"})\n",
        "    return df\n",
        "\n",
        "def clean_customer_lifetime_value(df):\n",
        "    \"\"\"Removes '%' and converts Customer Lifetime Value to numeric.\"\"\"\n",
        "    df[\"customer_lifetime_value\"] = df[\"customer_lifetime_value\"].astype(str).str.replace(\"%\", \"\").astype(float)\n",
        "    return df\n",
        "\n",
        "def clean_vehicle_class(df):\n",
        "    \"\"\"Standardizes vehicle class by grouping luxury cars.\"\"\"\n",
        "    df[\"vehicle_class\"] = df[\"vehicle_class\"].replace({\"Sports Car\": \"Luxury\", \"Luxury SUV\": \"Luxury\", \"Luxury Car\": \"Luxury\"})\n",
        "    return df\n",
        "\n",
        "def fix_open_complaints(df):\n",
        "    \"\"\"Extracts the middle value from 'Number of Open Complaints' format.\"\"\"\n",
        "    df[\"number_of_open_complaints\"] = df[\"number_of_open_complaints\"].astype(str).apply(lambda x: x.split(\"/\")[1] if \"/\" in x else x).astype(float)\n",
        "    return df\n",
        "\n",
        "def handle_missing_values(df):\n",
        "    \"\"\"Handles missing values using different strategies.\"\"\"\n",
        "    df[\"customer_lifetime_value\"].fillna(df[\"customer_lifetime_value\"].median(), inplace=True)\n",
        "    df[\"income\"].fillna(df[\"income\"].median(), inplace=True)\n",
        "    df[\"monthly_premium_auto\"].fillna(df[\"monthly_premium_auto\"].mean(), inplace=True)\n",
        "    df[\"number_of_open_complaints\"].fillna(df[\"number_of_open_complaints\"].mode()[0], inplace=True)\n",
        "    df[\"total_claim_amount\"].fillna(df[\"total_claim_amount\"].median(), inplace=True)\n",
        "    \n",
        "    df.dropna(subset=[\"customer\"], inplace=True)  # Drop rows where customer ID is missing\n",
        "    df[\"state\"].fillna(\"Unknown\", inplace=True)\n",
        "    df[\"gender\"].fillna(\"Unknown\", inplace=True)\n",
        "    df[\"education\"].fillna(df[\"education\"].mode()[0], inplace=True)\n",
        "    df[\"policy_type\"].fillna(df[\"policy_type\"].mode()[0], inplace=True)\n",
        "    df[\"vehicle_class\"].fillna(df[\"vehicle_class\"].mode()[0], inplace=True)\n",
        "    \n",
        "    return df\n",
        "\n",
        "def convert_numeric_columns(df):\n",
        "    \"\"\"Converts all numeric columns to integers.\"\"\"\n",
        "    numeric_columns = df.select_dtypes(include=[\"number\"]).columns\n",
        "    df[numeric_columns] = df[numeric_columns].astype(int)\n",
        "    return df\n",
        "\n",
        "def remove_duplicates(df):\n",
        "    \"\"\"Removes duplicate rows and resets index.\"\"\"\n",
        "    df = df.drop_duplicates(keep=\"first\")\n",
        "    df.reset_index(drop=True, inplace=True)\n",
        "    return df\n",
        "\n",
        "def save_cleaned_data(df, output_filepath):\n",
        "    \"\"\"Saves the cleaned dataset to a CSV file.\"\"\"\n",
        "    df.to_csv(output_filepath, index=False)"
      ]
    },
    {
      "cell_type": "markdown",
      "id": "80f846bb-3f5e-4ca2-96c0-900728daca5a",
      "metadata": {
        "id": "80f846bb-3f5e-4ca2-96c0-900728daca5a",
        "tags": []
      },
      "source": [
        "# Bonus: Challenge 3: Analyzing Clean and Formated Data"
      ]
    },
    {
      "cell_type": "markdown",
      "id": "9021630e-cc90-446c-b5bd-264d6c864207",
      "metadata": {
        "id": "9021630e-cc90-446c-b5bd-264d6c864207"
      },
      "source": [
        "You have been tasked with analyzing the data to identify potential areas for improving customer retention and profitability. Your goal is to identify customers with a high policy claim amount and a low customer lifetime value.\n",
        "\n",
        "In the Pandas Lab, we only looked at high policy claim amounts because we couldn't look into low customer lifetime values. If we had tried to work with that column, we wouldn't have been able to because customer lifetime value wasn't clean and in its proper format. So after cleaning and formatting the data, let's get some more interesting insights!\n",
        "\n",
        "Instructions:\n",
        "\n",
        "- Review the statistics again for total claim amount and customer lifetime value to gain an understanding of the data.\n",
        "- To identify potential areas for improving customer retention and profitability, we want to focus on customers with a high policy claim amount and a low customer lifetime value. Consider customers with a high policy claim amount to be those in the top 25% of the total claim amount, and clients with a low customer lifetime value to be those in the bottom 25% of the customer lifetime value. Create a pandas DataFrame object that contains information about customers with a policy claim amount greater than the 75th percentile and a customer lifetime value in the bottom 25th percentile.\n",
        "- Use DataFrame methods to calculate summary statistics about the high policy claim amount and low customer lifetime value data. To do so, select both columns of the dataframe simultaneously and pass it to the `.describe()` method. This will give you descriptive statistics, such as mean, median, standard deviation, minimum and maximum values for both columns at the same time, allowing you to compare and analyze their characteristics."
      ]
    },
    {
      "cell_type": "code",
      "execution_count": 131,
      "id": "211e82b5-461a-4d6f-8a23-4deccb84173c",
      "metadata": {
        "id": "211e82b5-461a-4d6f-8a23-4deccb84173c"
      },
      "outputs": [
        {
          "name": "stdout",
          "output_type": "stream",
          "text": [
            "       total_claim_amount  customer_lifetime_value\n",
            "count         1071.000000             1.071000e+03\n",
            "mean           404.528478             7.931141e+05\n",
            "std            293.041850             6.426676e+05\n",
            "min              0.000000             2.004350e+05\n",
            "25%            201.500000             4.048530e+05\n",
            "50%            354.000000             5.881740e+05\n",
            "75%            532.000000             8.945205e+05\n",
            "max           2893.000000             5.816655e+06\n"
          ]
        }
      ],
      "source": [
        "# Load the cleaned dataset\n",
        "df1 = pd.read_csv(\"cleaned_data.csv\")\n",
        "\n",
        "# Review overall statistics for both columns\n",
        "print(df1[[\"total_claim_amount\", \"customer_lifetime_value\"]].describe())"
      ]
    },
    {
      "cell_type": "code",
      "execution_count": 132,
      "id": "ebb22035",
      "metadata": {},
      "outputs": [
        {
          "data": {
            "text/html": [
              "<div>\n",
              "<style scoped>\n",
              "    .dataframe tbody tr th:only-of-type {\n",
              "        vertical-align: middle;\n",
              "    }\n",
              "\n",
              "    .dataframe tbody tr th {\n",
              "        vertical-align: top;\n",
              "    }\n",
              "\n",
              "    .dataframe thead th {\n",
              "        text-align: right;\n",
              "    }\n",
              "</style>\n",
              "<table border=\"1\" class=\"dataframe\">\n",
              "  <thead>\n",
              "    <tr style=\"text-align: right;\">\n",
              "      <th></th>\n",
              "      <th>customer</th>\n",
              "      <th>state</th>\n",
              "      <th>gender</th>\n",
              "      <th>education</th>\n",
              "      <th>customer_lifetime_value</th>\n",
              "      <th>income</th>\n",
              "      <th>monthly_premium_auto</th>\n",
              "      <th>number_of_open_complaints</th>\n",
              "      <th>policy_type</th>\n",
              "      <th>vehicle_class</th>\n",
              "      <th>total_claim_amount</th>\n",
              "    </tr>\n",
              "  </thead>\n",
              "  <tbody>\n",
              "    <tr>\n",
              "      <th>17</th>\n",
              "      <td>OE15005</td>\n",
              "      <td>California</td>\n",
              "      <td>Unknown</td>\n",
              "      <td>College</td>\n",
              "      <td>394524</td>\n",
              "      <td>28855</td>\n",
              "      <td>101</td>\n",
              "      <td>0</td>\n",
              "      <td>Personal Auto</td>\n",
              "      <td>SUV</td>\n",
              "      <td>647</td>\n",
              "    </tr>\n",
              "    <tr>\n",
              "      <th>23</th>\n",
              "      <td>TZ98966</td>\n",
              "      <td>Nevada</td>\n",
              "      <td>Unknown</td>\n",
              "      <td>Bachelor</td>\n",
              "      <td>245019</td>\n",
              "      <td>0</td>\n",
              "      <td>73</td>\n",
              "      <td>3</td>\n",
              "      <td>Corporate Auto</td>\n",
              "      <td>Four-Door Car</td>\n",
              "      <td>554</td>\n",
              "    </tr>\n",
              "    <tr>\n",
              "      <th>26</th>\n",
              "      <td>US89481</td>\n",
              "      <td>California</td>\n",
              "      <td>Unknown</td>\n",
              "      <td>Bachelor</td>\n",
              "      <td>394637</td>\n",
              "      <td>0</td>\n",
              "      <td>111</td>\n",
              "      <td>0</td>\n",
              "      <td>Personal Auto</td>\n",
              "      <td>Four-Door Car</td>\n",
              "      <td>799</td>\n",
              "    </tr>\n",
              "    <tr>\n",
              "      <th>38</th>\n",
              "      <td>CM61827</td>\n",
              "      <td>Oregon</td>\n",
              "      <td>Unknown</td>\n",
              "      <td>Bachelor</td>\n",
              "      <td>309003</td>\n",
              "      <td>0</td>\n",
              "      <td>90</td>\n",
              "      <td>0</td>\n",
              "      <td>Personal Auto</td>\n",
              "      <td>Two-Door Car</td>\n",
              "      <td>648</td>\n",
              "    </tr>\n",
              "    <tr>\n",
              "      <th>42</th>\n",
              "      <td>IL19217</td>\n",
              "      <td>California</td>\n",
              "      <td>Unknown</td>\n",
              "      <td>Bachelor</td>\n",
              "      <td>393900</td>\n",
              "      <td>60021</td>\n",
              "      <td>99</td>\n",
              "      <td>0</td>\n",
              "      <td>Personal Auto</td>\n",
              "      <td>Four-Door Car</td>\n",
              "      <td>882</td>\n",
              "    </tr>\n",
              "  </tbody>\n",
              "</table>\n",
              "</div>"
            ],
            "text/plain": [
              "   customer       state   gender education  customer_lifetime_value  income  \\\n",
              "17  OE15005  California  Unknown   College                   394524   28855   \n",
              "23  TZ98966      Nevada  Unknown  Bachelor                   245019       0   \n",
              "26  US89481  California  Unknown  Bachelor                   394637       0   \n",
              "38  CM61827      Oregon  Unknown  Bachelor                   309003       0   \n",
              "42  IL19217  California  Unknown  Bachelor                   393900   60021   \n",
              "\n",
              "    monthly_premium_auto  number_of_open_complaints     policy_type  \\\n",
              "17                   101                          0   Personal Auto   \n",
              "23                    73                          3  Corporate Auto   \n",
              "26                   111                          0   Personal Auto   \n",
              "38                    90                          0   Personal Auto   \n",
              "42                    99                          0   Personal Auto   \n",
              "\n",
              "    vehicle_class  total_claim_amount  \n",
              "17            SUV                 647  \n",
              "23  Four-Door Car                 554  \n",
              "26  Four-Door Car                 799  \n",
              "38   Two-Door Car                 648  \n",
              "42  Four-Door Car                 882  "
            ]
          },
          "execution_count": 132,
          "metadata": {},
          "output_type": "execute_result"
        }
      ],
      "source": [
        "# Define thresholds\n",
        "claim_threshold = df1[\"total_claim_amount\"].quantile(0.75)  # 75th percentile (high claims)\n",
        "clv_threshold = df1[\"customer_lifetime_value\"].quantile(0.25)  # 25th percentile (low CLV)\n",
        "\n",
        "# Filter customers meeting both conditions\n",
        "high_claim_low_clv_customers = df1[(df1[\"total_claim_amount\"] > claim_threshold) & (df1[\"customer_lifetime_value\"] < clv_threshold)]\n",
        "\n",
        "\n",
        "high_claim_low_clv_customers.head()"
      ]
    },
    {
      "cell_type": "code",
      "execution_count": 133,
      "id": "fe7a8d9a",
      "metadata": {},
      "outputs": [
        {
          "name": "stdout",
          "output_type": "stream",
          "text": [
            "       total_claim_amount  customer_lifetime_value\n",
            "count           40.000000                40.000000\n",
            "mean           723.300000            341577.425000\n",
            "std            149.216449             56921.466178\n",
            "min            537.000000            228759.000000\n",
            "25%            632.750000            304220.500000\n",
            "50%            685.000000            365995.000000\n",
            "75%            799.000000            387364.000000\n",
            "max           1185.000000            402381.000000\n"
          ]
        }
      ],
      "source": [
        "# Get summary statistics for the filtered customers\n",
        "print(high_claim_low_clv_customers[[\"total_claim_amount\", \"customer_lifetime_value\"]].describe())"
      ]
    },
    {
      "cell_type": "markdown",
      "id": "2d2488b9",
      "metadata": {},
      "source": [
        "Total Claim Amount\n",
        "\n",
        "- Mean: $723 → On average, these customers claim a higher amount than the overall dataset.\n",
        "\n",
        "- Min: $537 → The lowest claim in this group is still above the 75th percentile of the full dataset.\n",
        "\n",
        "- Max: $1185 → Some customers claim significantly high amounts.\n",
        "\n",
        "Customer Lifetime Value (CLV)\n",
        "\n",
        "- Mean: $341,577 → This is well below the overall average ($793,114), confirming these customers generate less revenue.\n",
        "\n",
        "- Min: $228,759 → Some customers have very low CLV.\n",
        "\n",
        "- Max: $402,381 → The highest CLV in this group is still below the 25th percentile of the dataset.\n"
      ]
    }
  ],
  "metadata": {
    "colab": {
      "provenance": []
    },
    "kernelspec": {
      "display_name": "Python 3",
      "language": "python",
      "name": "python3"
    },
    "language_info": {
      "codemirror_mode": {
        "name": "ipython",
        "version": 3
      },
      "file_extension": ".py",
      "mimetype": "text/x-python",
      "name": "python",
      "nbconvert_exporter": "python",
      "pygments_lexer": "ipython3",
      "version": "3.13.2"
    }
  },
  "nbformat": 4,
  "nbformat_minor": 5
}
